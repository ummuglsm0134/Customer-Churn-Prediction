# 📦 Import Libraries
import pandas as pd
import numpy as np
import matplotlib.pyplot as plt
import seaborn as sns

from sklearn.model_selection import train_test_split
from sklearn.linear_model import LogisticRegression
from xgboost import XGBClassifier
from sklearn.metrics import confusion_matrix, classification_report, roc_auc_score, RocCurveDisplay
# 📂 Load Data
url = 'https://raw.githubusercontent.com/blastchar/telco-customer-churn/master/WA_Fn-UseC_-Telco-Customer-Churn.csv'
df = pd.read_csv(url)

# Clean missing TotalCharges
df = df[df['TotalCharges'] != ' ']
df['TotalCharges'] = df['TotalCharges'].astype(float)

# Encode target
df['Churn'] = df['Churn'].map({'Yes': 1, 'No': 0})

# Drop customer ID
df.drop('customerID', axis=1, inplace=True)

# One-hot encoding
df_encoded = pd.get_dummies(df, drop_first=True)
# 🔄 Split Data
X = df_encoded.drop('Churn', axis=1)
y = df_encoded['Churn']

X_train, X_test, y_train, y_test = train_test_split(X, y, test_size=0.2, random_state=42)

# 🤖 Logistic Regression
log_model = LogisticRegression(max_iter=1000)
log_model.fit(X_train, y_train)
y_pred_log = log_model.predict(X_test)

print("Logistic Regression Evaluation:")
print(confusion_matrix(y_test, y_pred_log))
print(classification_report(y_test, y_pred_log))
# 🌳 XGBoost Classifier
xgb_model = XGBClassifier(use_label_encoder=False, eval_metric='logloss')
xgb_model.fit(X_train, y_train)
y_pred_xgb = xgb_model.predict(X_test)

print("XGBoost Evaluation:")
print(confusion_matrix(y_test, y_pred_xgb))
print(classification_report(y_test, y_pred_xgb))
# 📈 ROC Curve for XGBoost
probs = xgb_model.predict_proba(X_test)[:, 1]
auc_score = roc_auc_score(y_test, probs)
print(f"XGBoost ROC AUC Score: {auc_score:.2f}")

RocCurveDisplay.from_predictions(y_test, probs)
plt.title("XGBoost ROC Curve")
plt.show()

