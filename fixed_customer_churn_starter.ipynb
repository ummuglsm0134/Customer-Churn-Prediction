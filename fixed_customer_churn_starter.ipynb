{
 "cells": [
  {
   "cell_type": "markdown",
   "id": "90773eee",
   "metadata": {},
   "source": [
    "# 🔄 Customer Churn Prediction\n",
    "This notebook demonstrates how to build a churn prediction model using a sample Telco dataset.\n",
    "\n",
    "**Steps:**\n",
    "- Data loading\n",
    "- EDA with charts\n",
    "- Preprocessing\n",
    "- Modeling\n",
    "- Evaluation"
   ]
  },
  {
   "cell_type": "code",
   "execution_count": null,
   "id": "85be8527",
   "metadata": {},
   "outputs": [],
   "source": [
    "# 📦 Import Libraries\n",
    "import pandas as pd\n",
    "import numpy as np\n",
    "import matplotlib.pyplot as plt\n",
    "import seaborn as sns\n",
    "from sklearn.model_selection import train_test_split\n",
    "from sklearn.linear_model import LogisticRegression\n",
    "from xgboost import XGBClassifier\n",
    "from sklearn.metrics import classification_report, confusion_matrix"
   ]
  },
  {
   "cell_type": "code",
   "execution_count": null,
   "id": "198b7a26",
   "metadata": {},
   "outputs": [],
   "source": [
    "# 📂 Load Data\n",
    "url = 'https://raw.githubusercontent.com/blastchar/telco-customer-churn/master/WA_Fn-UseC_-Telco-Customer-Churn.csv'\n",
    "df = pd.read_csv(url)\n",
    "df.head()"
   ]
  },
  {
   "cell_type": "code",
   "execution_count": null,
   "id": "8e0586f9",
   "metadata": {},
   "outputs": [],
   "source": [
    "# 📊 Churn Distribution Plot\n",
    "sns.countplot(x='Churn', data=df)\n",
    "plt.title('Churn Distribution')\n",
    "plt.xlabel('Churn')\n",
    "plt.ylabel('Count')\n",
    "plt.show()"
   ]
  },
  {
   "cell_type": "code",
   "execution_count": null,
   "id": "32152977",
   "metadata": {},
   "outputs": [],
   "source": [
    "# 📊 Churn by Contract Type\n",
    "plt.figure(figsize=(6,4))\n",
    "sns.countplot(x='Contract', hue='Churn', data=df)\n",
    "plt.title('Churn by Contract Type')\n",
    "plt.xlabel('Contract Type')\n",
    "plt.ylabel('Count')\n",
    "plt.xticks(rotation=15)\n",
    "plt.legend(title='Churn')\n",
    "plt.show()"
   ]
  },
  {
   "cell_type": "code",
   "execution_count": null,
   "id": "5ff7c35b",
   "metadata": {},
   "outputs": [],
   "source": [
    "# 📈 Tenure Distribution by Churn\n",
    "plt.figure(figsize=(8,5))\n",
    "sns.histplot(data=df, x='tenure', hue='Churn', bins=30, kde=True)\n",
    "plt.title('Tenure Distribution by Churn Status')\n",
    "plt.xlabel('Tenure (Months)')\n",
    "plt.ylabel('Count')\n",
    "plt.show()"
   ]
  }
 ],
 "metadata": {},
 "nbformat": 4,
 "nbformat_minor": 5
}
