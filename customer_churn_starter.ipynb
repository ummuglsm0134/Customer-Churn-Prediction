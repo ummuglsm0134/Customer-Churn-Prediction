{
 "cells": [
  {
   "cell_type": "markdown",
   "id": "e41722eb",
   "metadata": {},
   "source": [
    "# 🔄 Customer Churn Prediction\n",
    "This notebook demonstrates how to build a churn prediction model using a sample dataset.\n",
    "\n",
    "We'll go through:\n",
    "- Data loading\n",
    "- Exploratory Data Analysis\n",
    "- Feature Engineering\n",
    "- Model Training (Logistic Regression & XGBoost)\n",
    "- Evaluation"
   ]
  },
  {
   "cell_type": "code",
   "execution_count": null,
   "id": "e90b7e91",
   "metadata": {},
   "outputs": [],
   "source": [
    "# 📦 Import Libraries\n",
    "import pandas as pd\n",
    "import numpy as np\n",
    "import matplotlib.pyplot as plt\n",
    "import seaborn as sns\n",
    "from sklearn.model_selection import train_test_split\n",
    "from sklearn.linear_model import LogisticRegression\n",
    "from xgboost import XGBClassifier\n",
    "from sklearn.metrics import classification_report, confusion_matrix"
   ]
  },
  {
   "cell_type": "code",
   "execution_count": null,
   "id": "5934ab27",
   "metadata": {},
   "outputs": [],
   "source": [
    "# 📂 Load Data\n",
    "# Example using a public dataset — replace with your dataset path or load via Kaggle API\n",
    "url = 'https://raw.githubusercontent.com/blastchar/telco-customer-churn/master/WA_Fn-UseC_-Telco-Customer-Churn.csv'\n",
    "df = pd.read_csv(url)\n",
    "df.head()" 
📊 Step-by-Step Churn EDA Visualizations
# Show churn class balance
sns.countplot(x='Churn', data=df)
plt.title('Churn Distribution')
plt.xlabel('Churn')
plt.ylabel('Count')
plt.show()
   ]
  },
  {
   "cell_type": "code",
   "execution_count": null,
   "id": "2cc8d880",
   "metadata": {},
   "outputs": [],
   "source": [
    "# 📊 Basic EDA\n",
    "df.info()\n",
    "df.describe()\n",
    "df['Churn'].value_counts(normalize=True)"
   ]
  },
  {
   "cell_type": "code",
   "execution_count": null,
   "id": "af628724",
   "metadata": {},
   "outputs": [],
   "source": [
    "# 🔧 Preprocessing (Example Only)\n",
    "df = df.dropna()\n",
    "df['Churn'] = df['Churn'].map({'Yes':1, 'No':0})\n",
    "df = pd.get_dummies(df, drop_first=True)\n",
    "X = df.drop('Churn', axis=1)\n",
    "y = df['Churn']\n",
    "X_train, X_test, y_train, y_test = train_test_split(X, y, test_size=0.2, random_state=42)"
   ]
  },
  {
   "cell_type": "code",
   "execution_count": null,
   "id": "89f630e5",
   "metadata": {},
   "outputs": [],
   "source": [
    "# 🤖 Modeling & Evaluation\n",
    "model = XGBClassifier(use_label_encoder=False, eval_metric='logloss')\n",
    "model.fit(X_train, y_train)\n",
    "y_pred = model.predict(X_test)\n",
    "print(confusion_matrix(y_test, y_pred))\n",
    "print(classification_report(y_test, y_pred))"
   ]
  }
 ],
 "metadata": {},
 "nbformat": 4,
 "nbformat_minor": 5
}
